{
 "cells": [
  {
   "cell_type": "code",
   "execution_count": 18,
   "metadata": {},
   "outputs": [],
   "source": [
    "from __future__ import print_function\n",
    "import os\n",
    "import numpy as np\n",
    "import cv2\n",
    "import keras\n",
    "from keras.models import model_from_json\n",
    "from keras.models import Sequential\n",
    "from keras import losses\n",
    "from keras.layers import Dense, Dropout, Flatten, BatchNormalization\n",
    "from keras.layers import Conv2D, MaxPooling2D\n",
    "from keras import backend as K\n",
    "from keras.optimizers import Adam\n",
    "from collections import Counter\n"
   ]
  },
  {
   "cell_type": "code",
   "execution_count": 2,
   "metadata": {},
   "outputs": [],
   "source": [
    "def get_total(data_path):\n",
    "    subdir = os.listdir(data_path)\n",
    "    return len(subdir)"
   ]
  },
  {
   "cell_type": "code",
   "execution_count": 3,
   "metadata": {},
   "outputs": [],
   "source": [
    "def load_model(path=\"/home/changgeonlee/Project/DeepMusic/model\"):\n",
    "    json_file = open(path+\"DeepMusic2.json\", \"r\")\n",
    "    loaded_model_json = json_file.read()\n",
    "    json_file.close()\n",
    "    loaded_model = model_from_json(loaded_model_json)\n",
    "    loaded_model.load_weights(path+\"DeepMusic2.h5\")\n",
    "    print(\"Loaded model from disk\")\n",
    "\n",
    "    adam = keras.optimizers.Adam(learning_rate=0.001)\n",
    "    loaded_model.compile(loss=keras.losses.categorical_crossentropy, optimizer=adam, metrics=['accuracy'])\n",
    "    return loaded_model"
   ]
  },
  {
   "cell_type": "code",
   "execution_count": 4,
   "metadata": {},
   "outputs": [],
   "source": [
    "def load_data_test(data_path):\n",
    "    x_data = []\n",
    "    subdir = os.listdir(data_path)\n",
    "    for idex, subdir in enumerate(subdir):\n",
    "#         print(data_path+subdir)\n",
    "        img = cv2.imread(data_path+subdir,0)\n",
    "        x_data.append(img/255)\n",
    "\n",
    "    x_data = np.array(x_data)\n",
    "    height = 216\n",
    "    width = 504\n",
    "    \n",
    "    x_data = x_data.reshape(x_data.shape[0], height, width, 1)\n",
    "    x_data = x_data.astype('float32')/255\n",
    "    \n",
    "    return x_data"
   ]
  },
  {
   "cell_type": "code",
   "execution_count": 7,
   "metadata": {},
   "outputs": [],
   "source": [
    "def test_load_data():\n",
    "    height = 216\n",
    "    width = 504\n",
    "    \n",
    "    x_data = []\n",
    "    y_data = []\n",
    "\n",
    "    data_path = \"/home/changgeonlee/Project/DeepMusic/test_data_png\"\n",
    "    total = get_total(data_path)\n",
    "    subdir = os.listdir(data_path)\n",
    "\n",
    "    for idex, subdir in enumerate(subdir):\n",
    "        label = [0 for i in range(total)]\n",
    "        label[idex] = 1\n",
    "        for item in os.listdir(data_path+\"/\"+subdir):\n",
    "            img_path = data_path+\"/\"+subdir+\"/\"+item\n",
    "            img = cv2.imread(img_path,0)\n",
    "            x_data.append(img/255)\n",
    "            y_data.append(label)\n",
    "\n",
    "    x_data = np.array(x_data)\n",
    "    y_data = np.array(y_data)\n",
    "\n",
    "#     x_train, y_train = shuffle_XY_paths(x_data, y_data)\n",
    "    y_train = y_data\n",
    "    x_train = x_data.reshape(x_data.shape[0], height, width, 1)\n",
    "\n",
    "    x_train = x_train.astype('float32')/255\n",
    "    \n",
    "    input_shape = (height, width,1)\n",
    "\n",
    "    return x_train, y_train"
   ]
  },
  {
   "cell_type": "code",
   "execution_count": 8,
   "metadata": {
    "scrolled": true
   },
   "outputs": [
    {
     "name": "stdout",
     "output_type": "stream",
     "text": [
      "Loaded model from disk\n"
     ]
    },
    {
     "data": {
      "text/plain": [
       "[2.1877886953570247, 0.724258303642273]"
      ]
     },
     "execution_count": 8,
     "metadata": {},
     "output_type": "execute_result"
    }
   ],
   "source": [
    "model = load_model()\n",
    "x_test, y_test = test_load_data()\n",
    "model.evaluate(x_test, y_test, verbose=0)"
   ]
  },
  {
   "cell_type": "code",
   "execution_count": 36,
   "metadata": {},
   "outputs": [
    {
     "name": "stdout",
     "output_type": "stream",
     "text": [
      "삐삐_IU\n",
      "삐삐_IU\n",
      "삐삐_IU\n",
      "삐삐_IU\n",
      "삐삐_IU\n",
      "삐삐_IU\n",
      "삐삐_IU\n",
      "방에_모기가_있어_10cm\n",
      "방에_모기가_있어_10cm\n",
      "방에_모기가_있어_10cm\n",
      "result: 삐삐_IU\n"
     ]
    }
   ],
   "source": [
    "label = os.listdir(\"/home/changgeonlee/Project/DeepMusic/data_png\")\n",
    "x = load_data_test(data_path=\"/home/changgeonlee/Project/DeepMusic/test_data_png/방에_모기가_있어_10cm/\")\n",
    "\n",
    "predict = []\n",
    "y_label = model.predict(x)\n",
    "for y in y_label:\n",
    "    print(label[np.argmax(y)])\n",
    "    predict.append(label[np.argmax(y)])\n",
    "    \n",
    "    \n",
    "result = Counter(predict).most_common(1)\n",
    "print(\"result:\",result[0][0])"
   ]
  },
  {
   "cell_type": "code",
   "execution_count": 12,
   "metadata": {},
   "outputs": [
    {
     "name": "stdout",
     "output_type": "stream",
     "text": [
      "['GIVE_LOVE_AKMU', 'Palette_IU', '소녀_오혁', '여수_밤바다_버스커버스커', '스물셋_IU', '밤편지_IU', '방에_모기가_있어_10cm', '상어가족_핑크퐁', '삐삐_IU', '200%_AKMU']\n"
     ]
    }
   ],
   "source": [
    "print(label)"
   ]
  },
  {
   "cell_type": "code",
   "execution_count": null,
   "metadata": {},
   "outputs": [],
   "source": []
  }
 ],
 "metadata": {
  "kernelspec": {
   "display_name": "Python 3",
   "language": "python",
   "name": "python3"
  },
  "language_info": {
   "codemirror_mode": {
    "name": "ipython",
    "version": 3
   },
   "file_extension": ".py",
   "mimetype": "text/x-python",
   "name": "python",
   "nbconvert_exporter": "python",
   "pygments_lexer": "ipython3",
   "version": "3.7.1"
  }
 },
 "nbformat": 4,
 "nbformat_minor": 2
}

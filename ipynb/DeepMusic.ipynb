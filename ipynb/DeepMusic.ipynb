{
 "cells": [
  {
   "cell_type": "code",
   "execution_count": 1,
   "metadata": {},
   "outputs": [
    {
     "name": "stderr",
     "output_type": "stream",
     "text": [
      "Using TensorFlow backend.\n"
     ]
    }
   ],
   "source": [
    "from __future__ import print_function\n",
    "import os\n",
    "import numpy as np\n",
    "import cv2\n",
    "from sklearn.model_selection import train_test_split\n",
    "import shutil\n",
    "import tensorflow as tf\n",
    "import keras\n",
    "from keras.models import Sequential\n",
    "from keras import losses\n",
    "from keras.layers import Dense, Dropout, Flatten, BatchNormalization\n",
    "from keras.layers import Conv2D, MaxPooling2D, Activation\n",
    "from keras import backend as K\n",
    "from keras.optimizers import Adam\n",
    "# shutil.rmtree('/home/changgeonlee/Project/DeepMusic/test_data_png/.ipynb_checkpoints')\n",
    "# shutil.rmtree('/home/changgeonlee/Project/DeepMusic/data_png/.ipynb_checkpoints')"
   ]
  },
  {
   "cell_type": "code",
   "execution_count": 2,
   "metadata": {},
   "outputs": [],
   "source": [
    "def get_total(data_path):\n",
    "    subdir = os.listdir(data_path)\n",
    "    return len(subdir)"
   ]
  },
  {
   "cell_type": "code",
   "execution_count": 3,
   "metadata": {},
   "outputs": [],
   "source": [
    "def shuffle_XY_paths(X,Y): \n",
    "    assert (X.shape[0] == Y.shape[0] )\n",
    "    idx = np.array(range(Y.shape[0]))\n",
    "    np.random.shuffle(idx)\n",
    "    newX = np.copy(X)\n",
    "    newY = np.copy(Y)\n",
    "    \n",
    "    for i in range(len(idx)):\n",
    "        newX[i] = X[idx[i],:,:]\n",
    "        newY[i] = Y[idx[i],:]\n",
    "\n",
    "    return newX, newY"
   ]
  },
  {
   "cell_type": "code",
   "execution_count": 4,
   "metadata": {},
   "outputs": [],
   "source": [
    "def load_data():\n",
    "    height = 216\n",
    "    width = 504\n",
    "    \n",
    "    x_data = []\n",
    "    y_data = []\n",
    "\n",
    "    data_path = \"/home/changgeonlee/Project/DeepMusic/data_png\"\n",
    "    total = get_total(data_path)\n",
    "    subdir = os.listdir(data_path)\n",
    "\n",
    "    for idex, subdir in enumerate(subdir):\n",
    "        label = [0 for i in range(total)]\n",
    "        label[idex] = 1\n",
    "\n",
    "        for item in os.listdir(data_path+\"/\"+subdir):\n",
    "            img_path = data_path+\"/\"+subdir+\"/\"+item\n",
    "            img = cv2.imread(img_path,0)\n",
    "            x_data.append(img/255)\n",
    "            y_data.append(label)\n",
    "\n",
    "    x_data = np.array(x_data)\n",
    "    y_data = np.array(y_data)\n",
    "\n",
    "    x_train, y_train = shuffle_XY_paths(x_data, y_data)\n",
    "\n",
    "    x_train = x_train.reshape(x_train.shape[0], height, width, 1)\n",
    "\n",
    "    x_train = x_train.astype('float32')/255\n",
    "    \n",
    "    input_shape = (height, width,1)\n",
    "\n",
    "    return x_train, y_train,input_shape"
   ]
  },
  {
   "cell_type": "code",
   "execution_count": 5,
   "metadata": {},
   "outputs": [],
   "source": [
    "def test_load_data():\n",
    "    height = 216\n",
    "    width = 504\n",
    "    \n",
    "    x_data = []\n",
    "    y_data = []\n",
    "\n",
    "    data_path = \"/home/changgeonlee/Project/DeepMusic/test_data_png\"\n",
    "    total = get_total(data_path)\n",
    "    subdir = os.listdir(data_path)\n",
    "\n",
    "    for idex, subdir in enumerate(subdir):\n",
    "        label = [0 for i in range(total)]\n",
    "        label[idex] = 1\n",
    "        for item in os.listdir(data_path+\"/\"+subdir):\n",
    "            img_path = data_path+\"/\"+subdir+\"/\"+item\n",
    "            img = cv2.imread(img_path,0)\n",
    "            x_data.append(img/255)\n",
    "            y_data.append(label)\n",
    "\n",
    "    x_data = np.array(x_data)\n",
    "    y_data = np.array(y_data)\n",
    "\n",
    "    x_train, y_train = shuffle_XY_paths(x_data, y_data)\n",
    "\n",
    "    x_train = x_train.reshape(x_train.shape[0], height, width, 1)\n",
    "\n",
    "    x_train = x_train.astype('float32')/255\n",
    "    \n",
    "    input_shape = (height, width,1)\n",
    "\n",
    "    return x_train, y_train"
   ]
  },
  {
   "cell_type": "code",
   "execution_count": 11,
   "metadata": {},
   "outputs": [],
   "source": [
    "def build_model(input_shape):\n",
    "    nb_filters = 32  # number of convolutional filters to use\n",
    "    pool_size = (2, 2)  # size of pooling area for max pooling\n",
    "    kernel_size = (3, 3)  # convolution kernel size\n",
    "    nb_layers = 4\n",
    "    total = 10\n",
    "    \n",
    "    # make model     \n",
    "    model = Sequential()\n",
    "    \n",
    "    # conv layer\n",
    "    model.add(Conv2D(16, kernel_size, \n",
    "                     padding='valid', \n",
    "                     input_shape=input_shape, \n",
    "                     activation='relu'))\n",
    "    model.add(Conv2D(32, kernel_size, activation='relu'))\n",
    "    model.add(MaxPooling2D(pool_size=pool_size))\n",
    "    keras.layers.Dropout(rate=0.7)\n",
    "    \n",
    "    \n",
    "    model.add(Conv2D(64, kernel_size, use_bias=False))\n",
    "    model.add(BatchNormalization())\n",
    "    model.add(Activation(\"relu\"))\n",
    "    model.add(Conv2D(128, kernel_size, activation='relu'))\n",
    "    model.add(MaxPooling2D(pool_size=pool_size))\n",
    "    keras.layers.Dropout(rate=0.7)\n",
    "    \n",
    "    model.add(Conv2D(256, kernel_size, use_bias=False))\n",
    "    model.add(BatchNormalization())\n",
    "    model.add(Activation(\"relu\"))\n",
    "    model.add(Conv2D(256, kernel_size, activation='relu'))\n",
    "    model.add(MaxPooling2D(pool_size=pool_size))\n",
    "    keras.layers.Dropout(rate=0.7)\n",
    "    \n",
    "    \n",
    "    model.add(Flatten())\n",
    "    model.add(Dense(128, activation='relu'))\n",
    "    model.add(Dense(10, activation='softmax'))\n",
    "    \n",
    "    adam = keras.optimizers.Adam(learning_rate=0.00005)\n",
    "    model.compile(loss=keras.losses.categorical_crossentropy,\n",
    "                  optimizer=adam,\n",
    "                  metrics=['accuracy'])\n",
    "\n",
    "    return model"
   ]
  },
  {
   "cell_type": "code",
   "execution_count": 20,
   "metadata": {},
   "outputs": [],
   "source": [
    "def save_model(model, path=\"/home/changgeonlee/Project/DeepMusic/model\"):\n",
    "    model_json = model.to_json()\n",
    "    with open(path+\"DeepMusic2.json\", \"w\") as json_file : \n",
    "        json_file.write(model_json)\n",
    "    model.save_weights(path+\"DeepMusic2.h5\")\n",
    "    print(\"Saved model to disk\")"
   ]
  },
  {
   "cell_type": "code",
   "execution_count": 8,
   "metadata": {},
   "outputs": [
    {
     "name": "stdout",
     "output_type": "stream",
     "text": [
      "input shape :  (216, 504, 1)\n",
      "x train :  (3573, 216, 504, 1)\n",
      "y train :  (3573, 10)\n",
      "x test :  (573, 216, 504, 1)\n",
      "y test :  (573, 10)\n"
     ]
    }
   ],
   "source": [
    "x_train, y_train, input_shape = load_data()\n",
    "x_test, y_test = test_load_data()\n",
    "print(\"input shape : \",input_shape)\n",
    "print(\"x train : \", x_train.shape)\n",
    "print(\"y train : \", y_train.shape)\n",
    "print(\"x test : \", x_test.shape)\n",
    "print(\"y test : \", y_test.shape)"
   ]
  },
  {
   "cell_type": "code",
   "execution_count": 16,
   "metadata": {
    "scrolled": true
   },
   "outputs": [
    {
     "name": "stdout",
     "output_type": "stream",
     "text": [
      "Model: \"sequential_3\"\n",
      "_________________________________________________________________\n",
      "Layer (type)                 Output Shape              Param #   \n",
      "=================================================================\n",
      "conv2d_13 (Conv2D)           (None, 214, 502, 16)      160       \n",
      "_________________________________________________________________\n",
      "conv2d_14 (Conv2D)           (None, 212, 500, 32)      4640      \n",
      "_________________________________________________________________\n",
      "max_pooling2d_7 (MaxPooling2 (None, 106, 250, 32)      0         \n",
      "_________________________________________________________________\n",
      "conv2d_15 (Conv2D)           (None, 104, 248, 64)      18432     \n",
      "_________________________________________________________________\n",
      "batch_normalization_5 (Batch (None, 104, 248, 64)      256       \n",
      "_________________________________________________________________\n",
      "activation_5 (Activation)    (None, 104, 248, 64)      0         \n",
      "_________________________________________________________________\n",
      "conv2d_16 (Conv2D)           (None, 102, 246, 128)     73856     \n",
      "_________________________________________________________________\n",
      "max_pooling2d_8 (MaxPooling2 (None, 51, 123, 128)      0         \n",
      "_________________________________________________________________\n",
      "conv2d_17 (Conv2D)           (None, 49, 121, 256)      294912    \n",
      "_________________________________________________________________\n",
      "batch_normalization_6 (Batch (None, 49, 121, 256)      1024      \n",
      "_________________________________________________________________\n",
      "activation_6 (Activation)    (None, 49, 121, 256)      0         \n",
      "_________________________________________________________________\n",
      "conv2d_18 (Conv2D)           (None, 47, 119, 256)      590080    \n",
      "_________________________________________________________________\n",
      "max_pooling2d_9 (MaxPooling2 (None, 23, 59, 256)       0         \n",
      "_________________________________________________________________\n",
      "flatten_3 (Flatten)          (None, 347392)            0         \n",
      "_________________________________________________________________\n",
      "dense_6 (Dense)              (None, 128)               44466304  \n",
      "_________________________________________________________________\n",
      "dense_7 (Dense)              (None, 10)                1290      \n",
      "=================================================================\n",
      "Total params: 45,450,954\n",
      "Trainable params: 45,450,314\n",
      "Non-trainable params: 640\n",
      "_________________________________________________________________\n"
     ]
    }
   ],
   "source": [
    "model = build_model(input_shape)\n",
    "model.summary()"
   ]
  },
  {
   "cell_type": "code",
   "execution_count": 17,
   "metadata": {
    "scrolled": false
   },
   "outputs": [
    {
     "name": "stdout",
     "output_type": "stream",
     "text": [
      "Train on 3573 samples, validate on 573 samples\n",
      "Epoch 1/15\n",
      "3573/3573 [==============================] - 46s 13ms/step - loss: 1.7907 - accuracy: 0.3596 - val_loss: 2.3328 - val_accuracy: 0.0506\n",
      "Epoch 2/15\n",
      "3573/3573 [==============================] - 45s 13ms/step - loss: 0.9526 - accuracy: 0.6849 - val_loss: 2.4185 - val_accuracy: 0.0384\n",
      "Epoch 3/15\n",
      "3573/3573 [==============================] - 45s 13ms/step - loss: 0.4205 - accuracy: 0.8634 - val_loss: 2.7091 - val_accuracy: 0.0384\n",
      "Epoch 4/15\n",
      "3573/3573 [==============================] - 45s 13ms/step - loss: 0.2157 - accuracy: 0.9303 - val_loss: 3.1060 - val_accuracy: 0.0558\n",
      "Epoch 5/15\n",
      "3573/3573 [==============================] - 45s 13ms/step - loss: 0.1504 - accuracy: 0.9544 - val_loss: 1.5894 - val_accuracy: 0.5777\n",
      "Epoch 6/15\n",
      "3573/3573 [==============================] - 45s 13ms/step - loss: 0.0588 - accuracy: 0.9821 - val_loss: 1.1408 - val_accuracy: 0.6789\n",
      "Epoch 7/15\n",
      "3573/3573 [==============================] - 45s 13ms/step - loss: 0.0196 - accuracy: 0.9964 - val_loss: 1.5043 - val_accuracy: 0.7086\n",
      "Epoch 8/15\n",
      "3573/3573 [==============================] - 45s 13ms/step - loss: 0.0461 - accuracy: 0.9885 - val_loss: 1.4267 - val_accuracy: 0.7190\n",
      "Epoch 9/15\n",
      "3573/3573 [==============================] - 45s 13ms/step - loss: 0.0093 - accuracy: 0.9983 - val_loss: 1.9641 - val_accuracy: 0.6754\n",
      "Epoch 10/15\n",
      "3573/3573 [==============================] - 45s 13ms/step - loss: 0.0155 - accuracy: 0.9964 - val_loss: 1.7178 - val_accuracy: 0.7225\n",
      "Epoch 11/15\n",
      "3573/3573 [==============================] - 45s 13ms/step - loss: 0.0058 - accuracy: 0.9992 - val_loss: 1.9316 - val_accuracy: 0.7033\n",
      "Epoch 12/15\n",
      "3573/3573 [==============================] - 45s 13ms/step - loss: 0.0014 - accuracy: 1.0000 - val_loss: 1.9875 - val_accuracy: 0.7120\n",
      "Epoch 13/15\n",
      "3573/3573 [==============================] - 45s 13ms/step - loss: 8.8001e-04 - accuracy: 1.0000 - val_loss: 2.0293 - val_accuracy: 0.7295\n",
      "Epoch 14/15\n",
      "3573/3573 [==============================] - 45s 13ms/step - loss: 6.4294e-04 - accuracy: 1.0000 - val_loss: 2.1092 - val_accuracy: 0.7190\n",
      "Epoch 15/15\n",
      "3573/3573 [==============================] - 45s 13ms/step - loss: 4.4071e-04 - accuracy: 1.0000 - val_loss: 2.1878 - val_accuracy: 0.7243\n"
     ]
    },
    {
     "data": {
      "text/plain": [
       "<keras.callbacks.callbacks.History at 0x7f6da546f208>"
      ]
     },
     "execution_count": 17,
     "metadata": {},
     "output_type": "execute_result"
    }
   ],
   "source": [
    "model.fit(x_train, y_train,\n",
    "          batch_size=30,\n",
    "          epochs=15,\n",
    "          verbose=1,\n",
    "          validation_data=(x_test, y_test),\n",
    "          shuffle=True)"
   ]
  },
  {
   "cell_type": "code",
   "execution_count": 21,
   "metadata": {},
   "outputs": [
    {
     "name": "stdout",
     "output_type": "stream",
     "text": [
      "Saved model to disk\n"
     ]
    }
   ],
   "source": [
    "save_model(model)"
   ]
  },
  {
   "cell_type": "code",
   "execution_count": null,
   "metadata": {},
   "outputs": [],
   "source": []
  }
 ],
 "metadata": {
  "kernelspec": {
   "display_name": "Python 3",
   "language": "python",
   "name": "python3"
  },
  "language_info": {
   "codemirror_mode": {
    "name": "ipython",
    "version": 3
   },
   "file_extension": ".py",
   "mimetype": "text/x-python",
   "name": "python",
   "nbconvert_exporter": "python",
   "pygments_lexer": "ipython3",
   "version": "3.7.1"
  }
 },
 "nbformat": 4,
 "nbformat_minor": 2
}

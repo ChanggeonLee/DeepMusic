{
 "cells": [
  {
   "cell_type": "code",
   "execution_count": 5,
   "metadata": {},
   "outputs": [],
   "source": [
    "from __future__ import print_function\n",
    "import os\n",
    "import numpy as np\n",
    "import cv2\n",
    "import keras\n",
    "from keras.models import model_from_json\n",
    "from keras.models import Sequential\n",
    "from keras import losses\n",
    "from keras.layers import Dense, Dropout, Flatten, BatchNormalization\n",
    "from keras.layers import Conv2D, MaxPooling2D\n",
    "from keras import backend as K\n",
    "from keras.optimizers import Adam\n",
    "from collections import Counter\n",
    "import matplotlib.pyplot as plt\n",
    "import librosa\n",
    "import librosa.display\n",
    "import os\n",
    "from os.path import isfile\n",
    "import shutil\n",
    "import gc\n",
    "import warnings \n",
    "import numpy as np\n",
    "import sys\n",
    "warnings.filterwarnings(\"ignore\")"
   ]
  },
  {
   "cell_type": "code",
   "execution_count": 6,
   "metadata": {},
   "outputs": [],
   "source": [
    "def get_length(path):\n",
    "    y, sr  = librosa.load(path)\n",
    "    length = librosa.get_duration(y=y, sr=sr)\n",
    "    gc.collect()\n",
    "    return length"
   ]
  },
  {
   "cell_type": "code",
   "execution_count": 7,
   "metadata": {},
   "outputs": [],
   "source": [
    "def save_wav(data_path, path_png, num=5):\n",
    "    length = get_length(data_path)\n",
    "    \n",
    "    for offset in range(0,int(length),num):\n",
    "        fig = plt.figure(figsize=(7, 3))\n",
    "        ax = plt.gca()\n",
    "        ax.axis('off')\n",
    "\n",
    "        # load type         \n",
    "        y, sr = librosa.load(data_path,offset=offset, duration=10)   \n",
    "        X = librosa.stft(y)\n",
    "        Xdb = librosa.amplitude_to_db(abs(X))\n",
    "        librosa.display.specshow(Xdb, sr=sr, y_axis='hz', x_axis=\"off\",ax=ax)\n",
    "\n",
    "        fig.savefig ( path_png +\"_\"+str(num)+ str(offset) )\n",
    "        plt.close(fig)\n",
    "        gc.collect()"
   ]
  },
  {
   "cell_type": "code",
   "execution_count": 8,
   "metadata": {},
   "outputs": [],
   "source": [
    "def load_model(path=\"./model/\"):\n",
    "    json_file = open(path+\"DeepMusic.json\", \"r\")\n",
    "    loaded_model_json = json_file.read()\n",
    "    json_file.close()\n",
    "    loaded_model = model_from_json(loaded_model_json)\n",
    "    loaded_model.load_weights(path+\"DeepMusic.h5\")\n",
    "    print(\"Loaded model from disk\")\n",
    "\n",
    "    adam = keras.optimizers.Adam(learning_rate=0.001)\n",
    "    loaded_model.compile(loss=keras.losses.categorical_crossentropy, optimizer=adam, metrics=['accuracy'])\n",
    "    return loaded_model"
   ]
  },
  {
   "cell_type": "code",
   "execution_count": 9,
   "metadata": {},
   "outputs": [],
   "source": [
    "def load_data(data_path):\n",
    "    x_data = []\n",
    "    subdir = os.listdir(data_path)\n",
    "    for idex, subdir in enumerate(subdir):\n",
    "        img = cv2.imread(data_path+subdir,0)\n",
    "        x_data.append(img/255)\n",
    "\n",
    "    x_data = np.array(x_data)\n",
    "    height = 216\n",
    "    width = 504\n",
    "    \n",
    "    x_data = x_data.reshape(x_data.shape[0], height, width, 1)\n",
    "    x_data = x_data.astype('float32')/255\n",
    "    \n",
    "    return x_data"
   ]
  },
  {
   "cell_type": "code",
   "execution_count": 10,
   "metadata": {},
   "outputs": [],
   "source": [
    "def get_music_name(y):\n",
    "    predict = []\n",
    "    label = ['GIVE_LOVE_AKMU', 'Palette_IU', '여수_밤바다_버스커버스커', '스물셋_IU', '밤편지_IU', '방에_모기가_있어_10cm', 'Natural_ImagineDragons', '삐삐_IU', 'the_one_samkim', '200%_AKMU', '오늘_오왠']\n",
    "    for y_index in y:\n",
    "        predict.append(label[np.argmax(y_index)])\n",
    "    \n",
    "#     print(predict)\n",
    "    result = Counter(predict).most_common(1)\n",
    "    return result[0][0]"
   ]
  },
  {
   "cell_type": "code",
   "execution_count": 11,
   "metadata": {},
   "outputs": [],
   "source": [
    "def remove_file(fname, path):\n",
    "#     shutil.rmtree(fname)\n",
    "    shutil.rmtree(path)"
   ]
  },
  {
   "cell_type": "code",
   "execution_count": 23,
   "metadata": {},
   "outputs": [],
   "source": [
    "if __name__ == \"__main__\":\n",
    "    # args로 경로 입력\n",
    "    fname=\"./test_data/여수_밤바다_버스커버스커/1\"\n",
    "    path=fname+\"_png/\"\n",
    "    os.mkdir(path)\n",
    "    \n",
    "    # 입력 받은 경로에 관한 이미지를 만들어서 저장\n",
    "    save_wav(fname, path)\n",
    "    \n",
    "    # 이미지를 array 받아오기\n",
    "    x = load_data(path)\n",
    "    \n",
    "#     # model에게 입력을 준다.\n",
    "#     model = load_model()\n",
    "#     y = model.predict(x)\n",
    "    \n",
    "#     # 예측값에서 가장 많이 나온거 찾는다.\n",
    "#     music_name = get_music_name(y)\n",
    "    \n",
    "#     # 폴더와 wav파일 지운다.\n",
    "#     remove_file(fname, path)\n",
    "    \n",
    "#     # 예측값을 return\n",
    "#     print(music_name)"
   ]
  },
  {
   "cell_type": "markdown",
   "metadata": {},
   "source": [
    "1. 경로를 입력 받는다.\n",
    "2. 입력 받은 경로에 관한 이미지를 만들어서 저장한다.\n",
    "3. 모델에게 입력으로 이미지를 준다.\n",
    "4. 결과가 나오면 이미지와 wav파일을 지운다.\n",
    "5. 결과를 return 한다.\n",
    "6. express가 res로 안드로이드로 보낸다."
   ]
  }
 ],
 "metadata": {
  "kernelspec": {
   "display_name": "Python 3",
   "language": "python",
   "name": "python3"
  },
  "language_info": {
   "codemirror_mode": {
    "name": "ipython",
    "version": 3
   },
   "file_extension": ".py",
   "mimetype": "text/x-python",
   "name": "python",
   "nbconvert_exporter": "python",
   "pygments_lexer": "ipython3",
   "version": "3.7.1"
  }
 },
 "nbformat": 4,
 "nbformat_minor": 2
}

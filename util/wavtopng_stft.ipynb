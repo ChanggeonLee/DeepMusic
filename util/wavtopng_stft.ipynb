{
 "cells": [
  {
   "cell_type": "code",
   "execution_count": 4,
   "metadata": {},
   "outputs": [],
   "source": [
    "import matplotlib.pyplot as plt\n",
    "import librosa\n",
    "import librosa.display\n",
    "import os\n",
    "from os.path import isfile\n",
    "import shutil\n",
    "import gc\n",
    "import warnings \n",
    "import numpy as np\n",
    "warnings.filterwarnings(\"ignore\")"
   ]
  },
  {
   "cell_type": "code",
   "execution_count": 5,
   "metadata": {},
   "outputs": [],
   "source": [
    "path=\"/home/changgeonlee/Project/DeepMusic\"\n",
    "path_data=path+\"/data/\"\n",
    "path_png=path+\"/data_png/\""
   ]
  },
  {
   "cell_type": "code",
   "execution_count": 6,
   "metadata": {},
   "outputs": [],
   "source": [
    "# shutil.rmtree(path_png)\n",
    "# os.mkdir(path_png)"
   ]
  },
  {
   "cell_type": "code",
   "execution_count": 7,
   "metadata": {},
   "outputs": [],
   "source": [
    "def get_length(path):\n",
    "    y, sr  = librosa.load(path)\n",
    "    length = librosa.get_duration(y=y, sr=sr)\n",
    "    gc.collect()\n",
    "    return length"
   ]
  },
  {
   "cell_type": "code",
   "execution_count": 8,
   "metadata": {},
   "outputs": [],
   "source": [
    "def save_wav(path_png, classname, data_path, num):\n",
    "    length = get_length(data_path)\n",
    "    \n",
    "    for offset in range(0,int(length),num):\n",
    "        fig = plt.figure(figsize=(7, 3))\n",
    "        ax = plt.gca()\n",
    "        ax.axis('off')\n",
    "\n",
    "        # load type         \n",
    "        y, sr = librosa.load(data_path,offset=offset, duration=10)   \n",
    "        X = librosa.stft(y)\n",
    "        Xdb = librosa.amplitude_to_db(abs(X))\n",
    "        librosa.display.specshow(Xdb, sr=sr, y_axis='hz', x_axis=\"off\",ax=ax)\n",
    "\n",
    "        fig.savefig ( path_png + classname +\"_\"+str(num)+ str(offset) )\n",
    "        plt.close(fig)\n",
    "        gc.collect()"
   ]
  },
  {
   "cell_type": "code",
   "execution_count": 9,
   "metadata": {},
   "outputs": [],
   "source": [
    "def get_music(path_png, music_name, data_path):\n",
    "    class_names = os.listdir(data_path)\n",
    "    \n",
    "    for idx, classname in enumerate(class_names):\n",
    "        print(str(idx) + \"생성 중 : \" + music_name + \"_\" + classname)\n",
    "        save_wav(path_png+\"/\"+music_name +\"/\",classname,data_path+\"/\"+classname, 5)\n",
    "        save_wav(path_png+\"/\"+music_name +\"/\",classname,data_path+\"/\"+classname, 10)\n",
    "        save_wav(path_png+\"/\"+music_name +\"/\",classname,data_path+\"/\"+classname, 30)\n",
    "        gc.collect()"
   ]
  },
  {
   "cell_type": "code",
   "execution_count": 30,
   "metadata": {},
   "outputs": [
    {
     "name": "stdout",
     "output_type": "stream",
     "text": [
      "이미 생성됨\n",
      "이미 생성됨\n",
      "0생성 중 : 여수_밤바다_버스커버스커_1\n",
      "1생성 중 : 여수_밤바다_버스커버스커_2\n",
      "이미 생성됨\n",
      "이미 생성됨\n",
      "0생성 중 : 방에_모기가_있어_10cm_4\n",
      "1생성 중 : 방에_모기가_있어_10cm_1\n",
      "2생성 중 : 방에_모기가_있어_10cm_3\n",
      "3생성 중 : 방에_모기가_있어_10cm_2\n",
      "이미 생성됨\n",
      "이미 생성됨\n",
      "이미 생성됨\n",
      "이미 생성됨\n",
      "이미 생성됨\n"
     ]
    }
   ],
   "source": [
    "class_names = os.listdir(path_data)\n",
    "for idx, classname in enumerate(class_names):\n",
    "    data_path = path_data+classname\n",
    "    try:\n",
    "        # 이미지 저장할 폴더 생성         \n",
    "        os.mkdir(path_png+classname)\n",
    "        get_music(path_png,classname,data_path)\n",
    "        gc.collect()\n",
    "    except FileExistsError:\n",
    "        print (\"이미 생성됨\")    "
   ]
  },
  {
   "cell_type": "code",
   "execution_count": 10,
   "metadata": {},
   "outputs": [],
   "source": [
    "path=\"/home/changgeonlee/Project/DeepMusic\"\n",
    "path_data=path+\"/test_data/\"\n",
    "path_png=path+\"/test_data_png/\""
   ]
  },
  {
   "cell_type": "code",
   "execution_count": 11,
   "metadata": {},
   "outputs": [],
   "source": [
    "# shutil.rmtree(path_png)\n",
    "# shutil.rmtree('/home/changgeonlee/Project/DeepMusic/test_data/200%_AKMU/.ipynb_checkpoints')\n",
    "# os.mkdir(path_png)"
   ]
  },
  {
   "cell_type": "code",
   "execution_count": 12,
   "metadata": {},
   "outputs": [
    {
     "name": "stdout",
     "output_type": "stream",
     "text": [
      "이미 생성됨\n",
      "이미 생성됨\n",
      "이미 생성됨\n",
      "0생성 중 : 여수_밤바다_버스커버스커_1\n",
      "1생성 중 : 여수_밤바다_버스커버스커_2\n",
      "이미 생성됨\n",
      "이미 생성됨\n",
      "이미 생성됨\n",
      "이미 생성됨\n",
      "이미 생성됨\n",
      "이미 생성됨\n",
      "이미 생성됨\n",
      "이미 생성됨\n"
     ]
    }
   ],
   "source": [
    "class_names = os.listdir(path_data)\n",
    "for idx, classname in enumerate(class_names):\n",
    "    data_path = path_data+classname\n",
    "    try:\n",
    "         # 이미지 저장할 폴더 생성         \n",
    "        os.mkdir(path_png+classname)\n",
    "        get_music(path_png,classname,data_path)\n",
    "        gc.collect()\n",
    "    except FileExistsError:\n",
    "        print (\"이미 생성됨\")  "
   ]
  },
  {
   "cell_type": "code",
   "execution_count": null,
   "metadata": {},
   "outputs": [],
   "source": []
  }
 ],
 "metadata": {
  "kernelspec": {
   "display_name": "Python 3",
   "language": "python",
   "name": "python3"
  },
  "language_info": {
   "codemirror_mode": {
    "name": "ipython",
    "version": 3
   },
   "file_extension": ".py",
   "mimetype": "text/x-python",
   "name": "python",
   "nbconvert_exporter": "python",
   "pygments_lexer": "ipython3",
   "version": "3.7.1"
  }
 },
 "nbformat": 4,
 "nbformat_minor": 2
}

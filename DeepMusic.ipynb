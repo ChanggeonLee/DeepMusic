{
 "cells": [
  {
   "cell_type": "code",
   "execution_count": 1,
   "metadata": {},
   "outputs": [
    {
     "name": "stderr",
     "output_type": "stream",
     "text": [
      "Using TensorFlow backend.\n"
     ]
    }
   ],
   "source": [
    "from __future__ import print_function\n",
    "import os\n",
    "import numpy as np\n",
    "import cv2\n",
    "from sklearn.model_selection import train_test_split\n",
    "import shutil\n",
    "import tensorflow as tf\n",
    "import keras\n",
    "from keras.models import Sequential\n",
    "from keras import losses\n",
    "from keras.layers import Dense, Dropout, Flatten, BatchNormalization\n",
    "from keras.layers import Conv2D, MaxPooling2D, Activation\n",
    "from keras import backend as K\n",
    "from keras.optimizers import Adam\n",
    "# shutil.rmtree('/home/changgeonlee/Project/DeepMusic/test_data_png/.ipynb_checkpoints')\n",
    "# shutil.rmtree('/home/changgeonlee/Project/DeepMusic/data_png/.ipynb_checkpoints')"
   ]
  },
  {
   "cell_type": "code",
   "execution_count": 2,
   "metadata": {},
   "outputs": [],
   "source": [
    "def get_total(data_path):\n",
    "    subdir = os.listdir(data_path)\n",
    "    return len(subdir)"
   ]
  },
  {
   "cell_type": "code",
   "execution_count": 3,
   "metadata": {},
   "outputs": [],
   "source": [
    "def shuffle_XY_paths(X,Y): \n",
    "    assert (X.shape[0] == Y.shape[0] )\n",
    "    idx = np.array(range(Y.shape[0]))\n",
    "    np.random.shuffle(idx)\n",
    "    newX = np.copy(X)\n",
    "    newY = np.copy(Y)\n",
    "    \n",
    "    for i in range(len(idx)):\n",
    "        newX[i] = X[idx[i],:,:]\n",
    "        newY[i] = Y[idx[i],:]\n",
    "\n",
    "    return newX, newY"
   ]
  },
  {
   "cell_type": "code",
   "execution_count": 4,
   "metadata": {},
   "outputs": [],
   "source": [
    "def load_data():\n",
    "    height = 216\n",
    "    width = 504\n",
    "    \n",
    "    x_data = []\n",
    "    y_data = []\n",
    "\n",
    "    data_path = \"./data_png\"\n",
    "    total = get_total(data_path)\n",
    "    subdir = os.listdir(data_path)\n",
    "\n",
    "    for idex, subdir in enumerate(subdir):\n",
    "        label = [0 for i in range(total)]\n",
    "        label[idex] = 1\n",
    "\n",
    "        for item in os.listdir(data_path+\"/\"+subdir):\n",
    "            img_path = data_path+\"/\"+subdir+\"/\"+item\n",
    "            img = cv2.imread(img_path,0)\n",
    "            x_data.append(img/255)\n",
    "            y_data.append(label)\n",
    "\n",
    "    x_data = np.array(x_data)\n",
    "    y_data = np.array(y_data)\n",
    "\n",
    "    x_train, y_train = shuffle_XY_paths(x_data, y_data)\n",
    "\n",
    "    x_train = x_train.reshape(x_train.shape[0], height, width, 1)\n",
    "\n",
    "    x_train = x_train.astype('float32')/255\n",
    "    \n",
    "    input_shape = (height, width,1)\n",
    "\n",
    "    return x_train, y_train,input_shape"
   ]
  },
  {
   "cell_type": "code",
   "execution_count": 5,
   "metadata": {},
   "outputs": [],
   "source": [
    "def test_load_data():\n",
    "    height = 216\n",
    "    width = 504\n",
    "    \n",
    "    x_data = []\n",
    "    y_data = []\n",
    "\n",
    "    data_path = \"./test_data_png\"\n",
    "    total = get_total(data_path)\n",
    "    subdir = os.listdir(data_path)\n",
    "\n",
    "    for idex, subdir in enumerate(subdir):\n",
    "        label = [0 for i in range(total)]\n",
    "        label[idex] = 1\n",
    "        for item in os.listdir(data_path+\"/\"+subdir):\n",
    "            img_path = data_path+\"/\"+subdir+\"/\"+item\n",
    "            img = cv2.imread(img_path,0)\n",
    "            x_data.append(img/255)\n",
    "            y_data.append(label)\n",
    "\n",
    "    x_data = np.array(x_data)\n",
    "    y_data = np.array(y_data)\n",
    "\n",
    "    x_train, y_train = shuffle_XY_paths(x_data, y_data)\n",
    "\n",
    "    x_train = x_train.reshape(x_train.shape[0], height, width, 1)\n",
    "\n",
    "    x_train = x_train.astype('float32')/255\n",
    "    \n",
    "    input_shape = (height, width,1)\n",
    "\n",
    "    return x_train, y_train"
   ]
  },
  {
   "cell_type": "code",
   "execution_count": 6,
   "metadata": {},
   "outputs": [],
   "source": [
    "def build_model(input_shape):\n",
    "    nb_filters = 32  # number of convolutional filters to use\n",
    "    pool_size = (2, 2)  # size of pooling area for max pooling\n",
    "    kernel_size = (3, 3)  # convolution kernel size\n",
    "    nb_layers = 4\n",
    "    total = 10\n",
    "    \n",
    "    # make model     \n",
    "    model = Sequential()\n",
    "    \n",
    "    # conv layer\n",
    "    model.add(Conv2D(32, kernel_size, \n",
    "                     padding='valid', \n",
    "                     input_shape=input_shape, \n",
    "                     activation='relu'))\n",
    "    model.add(Conv2D(32, kernel_size, activation='relu'))\n",
    "    model.add(MaxPooling2D(pool_size=pool_size))\n",
    "    keras.layers.Dropout(rate=0.25)\n",
    "    \n",
    "    model.add(Conv2D(32, kernel_size, use_bias=False))\n",
    "    model.add(BatchNormalization())\n",
    "    model.add(Activation(\"relu\"))\n",
    "    model.add(MaxPooling2D(pool_size=pool_size))\n",
    "    keras.layers.Dropout(rate=0.25)\n",
    "    \n",
    "    model.add(Flatten())\n",
    "    model.add(Dense(32, activation='relu'))\n",
    "    keras.layers.Dropout(rate=0.5)\n",
    "    model.add(Dense(11, activation='softmax'))\n",
    "    \n",
    "    adam = keras.optimizers.Adam(learning_rate=0.0005)\n",
    "    model.compile(loss=keras.losses.categorical_crossentropy,\n",
    "                  optimizer=adam,\n",
    "                  metrics=['accuracy'])\n",
    "\n",
    "    return model"
   ]
  },
  {
   "cell_type": "code",
   "execution_count": 7,
   "metadata": {},
   "outputs": [],
   "source": [
    "def save_model(model, path=\"./model/\"):\n",
    "    model_json = model.to_json()\n",
    "    with open(path+\"DeepMusic.json\", \"w\") as json_file : \n",
    "        json_file.write(model_json)\n",
    "    model.save_weights(path+\"DeepMusic.h5\")\n",
    "    print(\"Saved model to disk\")"
   ]
  },
  {
   "cell_type": "code",
   "execution_count": 8,
   "metadata": {},
   "outputs": [
    {
     "name": "stdout",
     "output_type": "stream",
     "text": [
      "input shape :  (216, 504, 1)\n",
      "x train :  (1139, 216, 504, 1)\n",
      "y train :  (1139, 11)\n",
      "x test :  (98, 216, 504, 1)\n",
      "y test :  (98, 11)\n"
     ]
    }
   ],
   "source": [
    "x_train, y_train, input_shape = load_data()\n",
    "x_test, y_test = test_load_data()\n",
    "print(\"input shape : \",input_shape)\n",
    "print(\"x train : \", x_train.shape)\n",
    "print(\"y train : \", y_train.shape)\n",
    "print(\"x test : \", x_test.shape)\n",
    "print(\"y test : \", y_test.shape)"
   ]
  },
  {
   "cell_type": "code",
   "execution_count": 9,
   "metadata": {
    "scrolled": true
   },
   "outputs": [
    {
     "name": "stdout",
     "output_type": "stream",
     "text": [
      "Model: \"sequential_1\"\n",
      "_________________________________________________________________\n",
      "Layer (type)                 Output Shape              Param #   \n",
      "=================================================================\n",
      "conv2d_1 (Conv2D)            (None, 214, 502, 32)      320       \n",
      "_________________________________________________________________\n",
      "conv2d_2 (Conv2D)            (None, 212, 500, 32)      9248      \n",
      "_________________________________________________________________\n",
      "max_pooling2d_1 (MaxPooling2 (None, 106, 250, 32)      0         \n",
      "_________________________________________________________________\n",
      "conv2d_3 (Conv2D)            (None, 104, 248, 32)      9216      \n",
      "_________________________________________________________________\n",
      "batch_normalization_1 (Batch (None, 104, 248, 32)      128       \n",
      "_________________________________________________________________\n",
      "activation_1 (Activation)    (None, 104, 248, 32)      0         \n",
      "_________________________________________________________________\n",
      "max_pooling2d_2 (MaxPooling2 (None, 52, 124, 32)       0         \n",
      "_________________________________________________________________\n",
      "flatten_1 (Flatten)          (None, 206336)            0         \n",
      "_________________________________________________________________\n",
      "dense_1 (Dense)              (None, 32)                6602784   \n",
      "_________________________________________________________________\n",
      "dense_2 (Dense)              (None, 11)                363       \n",
      "=================================================================\n",
      "Total params: 6,622,059\n",
      "Trainable params: 6,621,995\n",
      "Non-trainable params: 64\n",
      "_________________________________________________________________\n"
     ]
    }
   ],
   "source": [
    "model = build_model(input_shape)\n",
    "model.summary()"
   ]
  },
  {
   "cell_type": "code",
   "execution_count": 10,
   "metadata": {
    "scrolled": false
   },
   "outputs": [
    {
     "name": "stdout",
     "output_type": "stream",
     "text": [
      "Train on 1139 samples, validate on 98 samples\n",
      "Epoch 1/20\n",
      "1139/1139 [==============================] - 9s 7ms/step - loss: 2.1954 - accuracy: 0.2792 - val_loss: 2.4812 - val_accuracy: 0.0000e+00\n",
      "Epoch 2/20\n",
      "1139/1139 [==============================] - 6s 5ms/step - loss: 1.5042 - accuracy: 0.5215 - val_loss: 2.9302 - val_accuracy: 0.0612\n",
      "Epoch 3/20\n",
      "1139/1139 [==============================] - 6s 5ms/step - loss: 0.8246 - accuracy: 0.7375 - val_loss: 4.4782 - val_accuracy: 0.0612\n",
      "Epoch 4/20\n",
      "1139/1139 [==============================] - 6s 5ms/step - loss: 0.5105 - accuracy: 0.8464 - val_loss: 4.5835 - val_accuracy: 0.0612\n",
      "Epoch 5/20\n",
      "1139/1139 [==============================] - 6s 5ms/step - loss: 0.3430 - accuracy: 0.8999 - val_loss: 4.7253 - val_accuracy: 0.0306\n",
      "Epoch 6/20\n",
      "1139/1139 [==============================] - 6s 5ms/step - loss: 0.2392 - accuracy: 0.9280 - val_loss: 6.1670 - val_accuracy: 0.0612\n",
      "Epoch 7/20\n",
      "1139/1139 [==============================] - 6s 5ms/step - loss: 0.1696 - accuracy: 0.9473 - val_loss: 3.7632 - val_accuracy: 0.0816\n",
      "Epoch 8/20\n",
      "1139/1139 [==============================] - 6s 5ms/step - loss: 0.1449 - accuracy: 0.9517 - val_loss: 4.9431 - val_accuracy: 0.0816\n",
      "Epoch 9/20\n",
      "1139/1139 [==============================] - 6s 5ms/step - loss: 0.1202 - accuracy: 0.9552 - val_loss: 10.1972 - val_accuracy: 0.0816\n",
      "Epoch 10/20\n",
      "1139/1139 [==============================] - 6s 5ms/step - loss: 0.0866 - accuracy: 0.9710 - val_loss: 2.6898 - val_accuracy: 0.2347\n",
      "Epoch 11/20\n",
      "1139/1139 [==============================] - 6s 5ms/step - loss: 0.0873 - accuracy: 0.9745 - val_loss: 17.4473 - val_accuracy: 0.1327\n",
      "Epoch 12/20\n",
      "1139/1139 [==============================] - 6s 5ms/step - loss: 0.0723 - accuracy: 0.9754 - val_loss: 6.1290 - val_accuracy: 0.1224\n",
      "Epoch 13/20\n",
      "1139/1139 [==============================] - 6s 5ms/step - loss: 0.0912 - accuracy: 0.9728 - val_loss: 14.1963 - val_accuracy: 0.1531\n",
      "Epoch 14/20\n",
      "1139/1139 [==============================] - 6s 5ms/step - loss: 0.0742 - accuracy: 0.9754 - val_loss: 2.0232 - val_accuracy: 0.6122\n",
      "Epoch 15/20\n",
      "1139/1139 [==============================] - 6s 5ms/step - loss: 0.0538 - accuracy: 0.9860 - val_loss: 2.2560 - val_accuracy: 0.7653\n",
      "Epoch 16/20\n",
      "1139/1139 [==============================] - 6s 5ms/step - loss: 0.0389 - accuracy: 0.9903 - val_loss: 3.4647 - val_accuracy: 0.5000\n",
      "Epoch 17/20\n",
      "1139/1139 [==============================] - 6s 5ms/step - loss: 0.0311 - accuracy: 0.9930 - val_loss: 2.4088 - val_accuracy: 0.4694\n",
      "Epoch 18/20\n",
      "1139/1139 [==============================] - 6s 5ms/step - loss: 0.0427 - accuracy: 0.9921 - val_loss: 7.8110 - val_accuracy: 0.1735\n",
      "Epoch 19/20\n",
      "1139/1139 [==============================] - 6s 5ms/step - loss: 0.0432 - accuracy: 0.9912 - val_loss: 24.9199 - val_accuracy: 0.1020\n",
      "Epoch 20/20\n",
      "1139/1139 [==============================] - 6s 5ms/step - loss: 0.0318 - accuracy: 0.9912 - val_loss: 23.2950 - val_accuracy: 0.0306\n"
     ]
    },
    {
     "data": {
      "text/plain": [
       "<keras.callbacks.callbacks.History at 0x7f8c580d6518>"
      ]
     },
     "execution_count": 10,
     "metadata": {},
     "output_type": "execute_result"
    }
   ],
   "source": [
    "model.fit(x_train, y_train,\n",
    "          batch_size=20,\n",
    "          epochs=20,\n",
    "          verbose=1,\n",
    "          validation_data=(x_test, y_test),\n",
    "          shuffle=True)"
   ]
  },
  {
   "cell_type": "code",
   "execution_count": 11,
   "metadata": {},
   "outputs": [
    {
     "name": "stdout",
     "output_type": "stream",
     "text": [
      "Saved model to disk\n"
     ]
    }
   ],
   "source": [
    "save_model(model)"
   ]
  }
 ],
 "metadata": {
  "kernelspec": {
   "display_name": "Python 3",
   "language": "python",
   "name": "python3"
  },
  "language_info": {
   "codemirror_mode": {
    "name": "ipython",
    "version": 3
   },
   "file_extension": ".py",
   "mimetype": "text/x-python",
   "name": "python",
   "nbconvert_exporter": "python",
   "pygments_lexer": "ipython3",
   "version": "3.7.1"
  }
 },
 "nbformat": 4,
 "nbformat_minor": 2
}
